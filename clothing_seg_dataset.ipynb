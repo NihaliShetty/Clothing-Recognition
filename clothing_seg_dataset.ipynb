{
  "nbformat": 4,
  "nbformat_minor": 0,
  "metadata": {
    "colab": {
      "name": "clothing_seg_dataset.ipynb",
      "version": "0.3.2",
      "provenance": [],
      "collapsed_sections": []
    },
    "kernelspec": {
      "name": "python2",
      "display_name": "Python 2"
    },
    "accelerator": "GPU"
  },
  "cells": [
    {
      "metadata": {
        "id": "X7Q78hYQQ44j",
        "colab_type": "code",
        "colab": {
          "base_uri": "https://localhost:8080/",
          "height": 125
        },
        "outputId": "98bc0827-8eeb-4104-8df2-402df4c6343e"
      },
      "cell_type": "code",
      "source": [
        "from google.colab import drive\n",
        "drive.mount('/content/drive/')"
      ],
      "execution_count": 2,
      "outputs": [
        {
          "output_type": "stream",
          "text": [
            "Go to this URL in a browser: https://accounts.google.com/o/oauth2/auth?client_id=947318989803-6bn6qk8qdgf4n4g3pfee6491hc0brc4i.apps.googleusercontent.com&redirect_uri=urn%3Aietf%3Awg%3Aoauth%3A2.0%3Aoob&scope=email%20https%3A%2F%2Fwww.googleapis.com%2Fauth%2Fdocs.test%20https%3A%2F%2Fwww.googleapis.com%2Fauth%2Fdrive%20https%3A%2F%2Fwww.googleapis.com%2Fauth%2Fdrive.photos.readonly%20https%3A%2F%2Fwww.googleapis.com%2Fauth%2Fpeopleapi.readonly&response_type=code\n",
            "\n",
            "Enter your authorization code:\n",
            "··········\n",
            "Mounted at /content/drive/\n"
          ],
          "name": "stdout"
        }
      ]
    },
    {
      "metadata": {
        "id": "tHL3fSb6Tv-6",
        "colab_type": "code",
        "colab": {}
      },
      "cell_type": "code",
      "source": [
        "!pip install -q keras"
      ],
      "execution_count": 0,
      "outputs": []
    },
    {
      "metadata": {
        "id": "AkegBrWJUEj5",
        "colab_type": "code",
        "colab": {}
      },
      "cell_type": "code",
      "source": [
        "!pip install -q tensorflow"
      ],
      "execution_count": 0,
      "outputs": []
    },
    {
      "metadata": {
        "id": "SyMC5eRqtB51",
        "colab_type": "code",
        "colab": {}
      },
      "cell_type": "code",
      "source": [
        "# !pip install slidingwindow"
      ],
      "execution_count": 0,
      "outputs": []
    },
    {
      "metadata": {
        "id": "bQn7cpn9yqSq",
        "colab_type": "code",
        "colab": {}
      },
      "cell_type": "code",
      "source": [
        "# !pip install -q slidingwindow"
      ],
      "execution_count": 0,
      "outputs": []
    },
    {
      "metadata": {
        "id": "hcYGXNBxwtrW",
        "colab_type": "code",
        "colab": {}
      },
      "cell_type": "code",
      "source": [
        "!apt-get -qq install -y libsm6 libxext6 && pip install -q -U opencv-python\n",
        "import cv2\n"
      ],
      "execution_count": 0,
      "outputs": []
    },
    {
      "metadata": {
        "id": "-GtKh6cV5k5j",
        "colab_type": "code",
        "colab": {}
      },
      "cell_type": "code",
      "source": [
        "import os\n",
        "os.chdir(\"/content/drive/My Drive/clothing_seg/tf-openpose\")"
      ],
      "execution_count": 0,
      "outputs": []
    },
    {
      "metadata": {
        "id": "GC-H6j4ZgWGy",
        "colab_type": "code",
        "colab": {
          "base_uri": "https://localhost:8080/",
          "height": 35
        },
        "outputId": "7cd32a09-2983-410b-d691-94e15d3c3443"
      },
      "cell_type": "code",
      "source": [
        "import tensorflow as tf\n",
        "tf.test.gpu_device_name()"
      ],
      "execution_count": 6,
      "outputs": [
        {
          "output_type": "execute_result",
          "data": {
            "text/plain": [
              "'/device:GPU:0'"
            ]
          },
          "metadata": {
            "tags": []
          },
          "execution_count": 6
        }
      ]
    },
    {
      "metadata": {
        "id": "v9hQekM4gfpw",
        "colab_type": "code",
        "colab": {
          "base_uri": "https://localhost:8080/",
          "height": 282
        },
        "outputId": "23e8415a-95fd-401a-9970-7353e37f18d8"
      },
      "cell_type": "code",
      "source": [
        "from tensorflow.python.client import device_lib\n",
        "device_lib.list_local_devices()"
      ],
      "execution_count": 7,
      "outputs": [
        {
          "output_type": "execute_result",
          "data": {
            "text/plain": [
              "[name: \"/device:CPU:0\"\n",
              " device_type: \"CPU\"\n",
              " memory_limit: 268435456\n",
              " locality {\n",
              " }\n",
              " incarnation: 4988381001679192811, name: \"/device:GPU:0\"\n",
              " device_type: \"GPU\"\n",
              " memory_limit: 11281989632\n",
              " locality {\n",
              "   bus_id: 1\n",
              "   links {\n",
              "   }\n",
              " }\n",
              " incarnation: 15690847383745764575\n",
              " physical_device_desc: \"device: 0, name: Tesla K80, pci bus id: 0000:00:04.0, compute capability: 3.7\"]"
            ]
          },
          "metadata": {
            "tags": []
          },
          "execution_count": 7
        }
      ]
    },
    {
      "metadata": {
        "id": "ALUNR1YqxBZa",
        "colab_type": "code",
        "colab": {
          "base_uri": "https://localhost:8080/",
          "height": 7344
        },
        "outputId": "90fe2c76-5dd1-416b-a7c3-b67473d0cbcf"
      },
      "cell_type": "code",
      "source": [
        "!python3 \"google_d_u_t.py\""
      ],
      "execution_count": 7,
      "outputs": [
        {
          "output_type": "stream",
          "text": [
            "Shirred_Sateen_Maxi_Skirt\n",
            "Watercolor_Rose_Skater_Skirt\n",
            "Box-Pleated_Gingham_Skirt\n",
            "Denim_A-Line_Skirt\n",
            "Lace_Mini_Skirt\n",
            "Faux_Leather_Skater_Skirt\n",
            "Beaded_Baroque-Patterned_Skirt\n",
            "Flatfront_Denim_Skirt\n",
            "Crochet_Lace_Midi_Skirt\n",
            "Rose_Print_Skater_Skirt\n",
            "Tie-Dye_Cover-Up_Skirt\n",
            "Pleated_Metallic_Skirt\n",
            "Mesh_Zippered_Mini_Skirt\n",
            "Structured_Mesh_Skater_Skirt\n",
            "Metallic_Wrap_Skirt\n",
            "Dainty_Floral_Skirt\n",
            "Box-Pleated_A-Line_Skirt\n",
            "Heathered_Knit_Skater_Skirt\n",
            "Destinations_Graphic_Heathered_Skirt\n",
            "[2018-10-10 18:07:27,079] [TfPoseEstimator] [INFO] loading graph from /content/drive/My Drive/clothing_seg/tf-openpose/models/graph/cmu/graph_opt.pb(default size=432x368)\n",
            "[2018-10-10 18:07:27,079] [TfPoseEstimator] [INFO] loading graph from /content/drive/My Drive/clothing_seg/tf-openpose/models/graph/cmu/graph_opt.pb(default size=432x368)\n",
            "2018-10-10 18:07:29.360019: I tensorflow/stream_executor/cuda/cuda_gpu_executor.cc:964] successful NUMA node read from SysFS had negative value (-1), but there must be at least one NUMA node, so returning NUMA node zero\n",
            "2018-10-10 18:07:29.360550: I tensorflow/core/common_runtime/gpu/gpu_device.cc:1411] Found device 0 with properties: \n",
            "name: Tesla K80 major: 3 minor: 7 memoryClockRate(GHz): 0.8235\n",
            "pciBusID: 0000:00:04.0\n",
            "totalMemory: 11.17GiB freeMemory: 11.10GiB\n",
            "2018-10-10 18:07:29.360617: I tensorflow/core/common_runtime/gpu/gpu_device.cc:1490] Adding visible gpu devices: 0\n",
            "2018-10-10 18:07:31.122948: I tensorflow/core/common_runtime/gpu/gpu_device.cc:971] Device interconnect StreamExecutor with strength 1 edge matrix:\n",
            "2018-10-10 18:07:31.123040: I tensorflow/core/common_runtime/gpu/gpu_device.cc:977]      0 \n",
            "2018-10-10 18:07:31.123085: I tensorflow/core/common_runtime/gpu/gpu_device.cc:990] 0:   N \n",
            "2018-10-10 18:07:31.123401: W tensorflow/core/common_runtime/gpu/gpu_bfc_allocator.cc:42] Overriding allow_growth setting because the TF_FORCE_GPU_ALLOW_GROWTH environment variable is set. Original config value was 0.\n",
            "2018-10-10 18:07:31.123580: I tensorflow/core/common_runtime/gpu/gpu_device.cc:1103] Created TensorFlow device (/job:localhost/replica:0/task:0/device:GPU:0 with 10759 MB memory) -> physical GPU (device: 0, name: Tesla K80, pci bus id: 0000:00:04.0, compute capability: 3.7)\n",
            "[2018-10-10 18:07:36,695] [TfPoseEstimator] [DEBUG] inference+ original shape=170x300\n",
            "[2018-10-10 18:07:36,695] [TfPoseEstimator] [DEBUG] inference+ original shape=170x300\n",
            "[2018-10-10 18:07:37,143] [TfPoseEstimator] [DEBUG] inference- heatMat=85x150 pafMat=85x150\n",
            "[2018-10-10 18:07:37,143] [TfPoseEstimator] [DEBUG] inference- heatMat=85x150 pafMat=85x150\n",
            "[2018-10-10 18:07:37,144] [TfPoseEstimator] [DEBUG] estimate time=0.00070\n",
            "[2018-10-10 18:07:37,144] [TfPoseEstimator] [DEBUG] estimate time=0.00070\n",
            "0 170\n",
            "170 300\n",
            "[2018-10-10 18:07:37,493] [TfPoseEstimator] [INFO] loading graph from /content/drive/My Drive/clothing_seg/tf-openpose/models/graph/cmu/graph_opt.pb(default size=432x368)\n",
            "[2018-10-10 18:07:37,493] [TfPoseEstimator] [INFO] loading graph from /content/drive/My Drive/clothing_seg/tf-openpose/models/graph/cmu/graph_opt.pb(default size=432x368)\n",
            "2018-10-10 18:07:38.721522: I tensorflow/core/common_runtime/gpu/gpu_device.cc:1490] Adding visible gpu devices: 0\n",
            "2018-10-10 18:07:38.721609: I tensorflow/core/common_runtime/gpu/gpu_device.cc:971] Device interconnect StreamExecutor with strength 1 edge matrix:\n",
            "2018-10-10 18:07:38.721639: I tensorflow/core/common_runtime/gpu/gpu_device.cc:977]      0 \n",
            "2018-10-10 18:07:38.721680: I tensorflow/core/common_runtime/gpu/gpu_device.cc:990] 0:   N \n",
            "2018-10-10 18:07:38.721979: I tensorflow/core/common_runtime/gpu/gpu_device.cc:1103] Created TensorFlow device (/job:localhost/replica:0/task:0/device:GPU:0 with 10759 MB memory) -> physical GPU (device: 0, name: Tesla K80, pci bus id: 0000:00:04.0, compute capability: 3.7)\n",
            "[2018-10-10 18:07:41,683] [TfPoseEstimator] [DEBUG] inference+ original shape=141x205\n",
            "[2018-10-10 18:07:41,683] [TfPoseEstimator] [DEBUG] inference+ original shape=141x205\n",
            "[2018-10-10 18:07:42,219] [TfPoseEstimator] [DEBUG] inference- heatMat=70x102 pafMat=70x102\n",
            "[2018-10-10 18:07:42,219] [TfPoseEstimator] [DEBUG] inference- heatMat=70x102 pafMat=70x102\n",
            "[2018-10-10 18:07:42,220] [TfPoseEstimator] [DEBUG] estimate time=0.00050\n",
            "[2018-10-10 18:07:42,220] [TfPoseEstimator] [DEBUG] estimate time=0.00050\n",
            "0 141\n",
            "141 205\n",
            "[2018-10-10 18:07:42,552] [TfPoseEstimator] [INFO] loading graph from /content/drive/My Drive/clothing_seg/tf-openpose/models/graph/cmu/graph_opt.pb(default size=432x368)\n",
            "[2018-10-10 18:07:42,552] [TfPoseEstimator] [INFO] loading graph from /content/drive/My Drive/clothing_seg/tf-openpose/models/graph/cmu/graph_opt.pb(default size=432x368)\n",
            "2018-10-10 18:07:43.496796: I tensorflow/core/common_runtime/gpu/gpu_device.cc:1490] Adding visible gpu devices: 0\n",
            "2018-10-10 18:07:43.496923: I tensorflow/core/common_runtime/gpu/gpu_device.cc:971] Device interconnect StreamExecutor with strength 1 edge matrix:\n",
            "2018-10-10 18:07:43.496961: I tensorflow/core/common_runtime/gpu/gpu_device.cc:977]      0 \n",
            "2018-10-10 18:07:43.496986: I tensorflow/core/common_runtime/gpu/gpu_device.cc:990] 0:   N \n",
            "2018-10-10 18:07:43.497196: I tensorflow/core/common_runtime/gpu/gpu_device.cc:1103] Created TensorFlow device (/job:localhost/replica:0/task:0/device:GPU:0 with 10759 MB memory) -> physical GPU (device: 0, name: Tesla K80, pci bus id: 0000:00:04.0, compute capability: 3.7)\n",
            "[2018-10-10 18:07:46,391] [TfPoseEstimator] [DEBUG] inference+ original shape=200x250\n",
            "[2018-10-10 18:07:46,391] [TfPoseEstimator] [DEBUG] inference+ original shape=200x250\n",
            "[2018-10-10 18:07:47,001] [TfPoseEstimator] [DEBUG] inference- heatMat=100x125 pafMat=100x125\n",
            "[2018-10-10 18:07:47,001] [TfPoseEstimator] [DEBUG] inference- heatMat=100x125 pafMat=100x125\n",
            "[2018-10-10 18:07:47,002] [TfPoseEstimator] [DEBUG] estimate time=0.00074\n",
            "[2018-10-10 18:07:47,002] [TfPoseEstimator] [DEBUG] estimate time=0.00074\n",
            "0 200\n",
            "200 250\n",
            "[2018-10-10 18:07:47,434] [TfPoseEstimator] [INFO] loading graph from /content/drive/My Drive/clothing_seg/tf-openpose/models/graph/cmu/graph_opt.pb(default size=432x368)\n",
            "[2018-10-10 18:07:47,434] [TfPoseEstimator] [INFO] loading graph from /content/drive/My Drive/clothing_seg/tf-openpose/models/graph/cmu/graph_opt.pb(default size=432x368)\n",
            "2018-10-10 18:07:48.380623: I tensorflow/core/common_runtime/gpu/gpu_device.cc:1490] Adding visible gpu devices: 0\n",
            "2018-10-10 18:07:48.380714: I tensorflow/core/common_runtime/gpu/gpu_device.cc:971] Device interconnect StreamExecutor with strength 1 edge matrix:\n",
            "2018-10-10 18:07:48.380744: I tensorflow/core/common_runtime/gpu/gpu_device.cc:977]      0 \n",
            "2018-10-10 18:07:48.380770: I tensorflow/core/common_runtime/gpu/gpu_device.cc:990] 0:   N \n",
            "2018-10-10 18:07:48.381042: I tensorflow/core/common_runtime/gpu/gpu_device.cc:1103] Created TensorFlow device (/job:localhost/replica:0/task:0/device:GPU:0 with 10759 MB memory) -> physical GPU (device: 0, name: Tesla K80, pci bus id: 0000:00:04.0, compute capability: 3.7)\n",
            "[2018-10-10 18:07:51,348] [TfPoseEstimator] [DEBUG] inference+ original shape=170x300\n",
            "[2018-10-10 18:07:51,348] [TfPoseEstimator] [DEBUG] inference+ original shape=170x300\n",
            "[2018-10-10 18:07:51,462] [TfPoseEstimator] [DEBUG] inference- heatMat=85x150 pafMat=85x150\n",
            "[2018-10-10 18:07:51,462] [TfPoseEstimator] [DEBUG] inference- heatMat=85x150 pafMat=85x150\n",
            "[2018-10-10 18:07:51,463] [TfPoseEstimator] [DEBUG] estimate time=0.00089\n",
            "[2018-10-10 18:07:51,463] [TfPoseEstimator] [DEBUG] estimate time=0.00089\n",
            "0 170\n",
            "170 300\n",
            "[2018-10-10 18:07:51,861] [TfPoseEstimator] [INFO] loading graph from /content/drive/My Drive/clothing_seg/tf-openpose/models/graph/cmu/graph_opt.pb(default size=432x368)\n",
            "[2018-10-10 18:07:51,861] [TfPoseEstimator] [INFO] loading graph from /content/drive/My Drive/clothing_seg/tf-openpose/models/graph/cmu/graph_opt.pb(default size=432x368)\n",
            "2018-10-10 18:07:52.812646: I tensorflow/core/common_runtime/gpu/gpu_device.cc:1490] Adding visible gpu devices: 0\n",
            "2018-10-10 18:07:52.812754: I tensorflow/core/common_runtime/gpu/gpu_device.cc:971] Device interconnect StreamExecutor with strength 1 edge matrix:\n",
            "2018-10-10 18:07:52.812786: I tensorflow/core/common_runtime/gpu/gpu_device.cc:977]      0 \n",
            "2018-10-10 18:07:52.812810: I tensorflow/core/common_runtime/gpu/gpu_device.cc:990] 0:   N \n",
            "2018-10-10 18:07:52.813042: I tensorflow/core/common_runtime/gpu/gpu_device.cc:1103] Created TensorFlow device (/job:localhost/replica:0/task:0/device:GPU:0 with 10759 MB memory) -> physical GPU (device: 0, name: Tesla K80, pci bus id: 0000:00:04.0, compute capability: 3.7)\n",
            "[2018-10-10 18:07:55,946] [TfPoseEstimator] [DEBUG] inference+ original shape=300x300\n",
            "[2018-10-10 18:07:55,946] [TfPoseEstimator] [DEBUG] inference+ original shape=300x300\n",
            "[2018-10-10 18:07:56,550] [TfPoseEstimator] [DEBUG] inference- heatMat=150x150 pafMat=150x150\n",
            "[2018-10-10 18:07:56,550] [TfPoseEstimator] [DEBUG] inference- heatMat=150x150 pafMat=150x150\n",
            "[2018-10-10 18:07:56,552] [TfPoseEstimator] [DEBUG] estimate time=0.00130\n",
            "[2018-10-10 18:07:56,552] [TfPoseEstimator] [DEBUG] estimate time=0.00130\n",
            "0 300\n",
            "300 300\n",
            "[2018-10-10 18:07:56,952] [TfPoseEstimator] [INFO] loading graph from /content/drive/My Drive/clothing_seg/tf-openpose/models/graph/cmu/graph_opt.pb(default size=432x368)\n",
            "[2018-10-10 18:07:56,952] [TfPoseEstimator] [INFO] loading graph from /content/drive/My Drive/clothing_seg/tf-openpose/models/graph/cmu/graph_opt.pb(default size=432x368)\n",
            "2018-10-10 18:07:57.987180: I tensorflow/core/common_runtime/gpu/gpu_device.cc:1490] Adding visible gpu devices: 0\n",
            "2018-10-10 18:07:57.987274: I tensorflow/core/common_runtime/gpu/gpu_device.cc:971] Device interconnect StreamExecutor with strength 1 edge matrix:\n",
            "2018-10-10 18:07:57.987306: I tensorflow/core/common_runtime/gpu/gpu_device.cc:977]      0 \n",
            "2018-10-10 18:07:57.987348: I tensorflow/core/common_runtime/gpu/gpu_device.cc:990] 0:   N \n",
            "2018-10-10 18:07:57.987577: I tensorflow/core/common_runtime/gpu/gpu_device.cc:1103] Created TensorFlow device (/job:localhost/replica:0/task:0/device:GPU:0 with 10759 MB memory) -> physical GPU (device: 0, name: Tesla K80, pci bus id: 0000:00:04.0, compute capability: 3.7)\n",
            "[2018-10-10 18:08:01,312] [TfPoseEstimator] [DEBUG] inference+ original shape=200x300\n",
            "[2018-10-10 18:08:01,312] [TfPoseEstimator] [DEBUG] inference+ original shape=200x300\n",
            "[2018-10-10 18:08:01,794] [TfPoseEstimator] [DEBUG] inference- heatMat=100x150 pafMat=100x150\n",
            "[2018-10-10 18:08:01,794] [TfPoseEstimator] [DEBUG] inference- heatMat=100x150 pafMat=100x150\n",
            "[2018-10-10 18:08:01,795] [TfPoseEstimator] [DEBUG] estimate time=0.00090\n",
            "[2018-10-10 18:08:01,795] [TfPoseEstimator] [DEBUG] estimate time=0.00090\n",
            "0 200\n",
            "200 300\n",
            "[2018-10-10 18:08:02,178] [TfPoseEstimator] [INFO] loading graph from /content/drive/My Drive/clothing_seg/tf-openpose/models/graph/cmu/graph_opt.pb(default size=432x368)\n",
            "[2018-10-10 18:08:02,178] [TfPoseEstimator] [INFO] loading graph from /content/drive/My Drive/clothing_seg/tf-openpose/models/graph/cmu/graph_opt.pb(default size=432x368)\n",
            "2018-10-10 18:08:03.155347: I tensorflow/core/common_runtime/gpu/gpu_device.cc:1490] Adding visible gpu devices: 0\n",
            "2018-10-10 18:08:03.155433: I tensorflow/core/common_runtime/gpu/gpu_device.cc:971] Device interconnect StreamExecutor with strength 1 edge matrix:\n",
            "2018-10-10 18:08:03.155464: I tensorflow/core/common_runtime/gpu/gpu_device.cc:977]      0 \n",
            "2018-10-10 18:08:03.155498: I tensorflow/core/common_runtime/gpu/gpu_device.cc:990] 0:   N \n",
            "2018-10-10 18:08:03.155696: I tensorflow/core/common_runtime/gpu/gpu_device.cc:1103] Created TensorFlow device (/job:localhost/replica:0/task:0/device:GPU:0 with 10759 MB memory) -> physical GPU (device: 0, name: Tesla K80, pci bus id: 0000:00:04.0, compute capability: 3.7)\n",
            "[2018-10-10 18:08:06,727] [TfPoseEstimator] [DEBUG] inference+ original shape=195x300\n",
            "[2018-10-10 18:08:06,727] [TfPoseEstimator] [DEBUG] inference+ original shape=195x300\n",
            "[2018-10-10 18:08:07,196] [TfPoseEstimator] [DEBUG] inference- heatMat=97x150 pafMat=97x150\n",
            "[2018-10-10 18:08:07,196] [TfPoseEstimator] [DEBUG] inference- heatMat=97x150 pafMat=97x150\n",
            "[2018-10-10 18:08:07,197] [TfPoseEstimator] [DEBUG] estimate time=0.00083\n",
            "[2018-10-10 18:08:07,197] [TfPoseEstimator] [DEBUG] estimate time=0.00083\n",
            "0 195\n",
            "195 300\n",
            "[2018-10-10 18:08:07,577] [TfPoseEstimator] [INFO] loading graph from /content/drive/My Drive/clothing_seg/tf-openpose/models/graph/cmu/graph_opt.pb(default size=432x368)\n",
            "[2018-10-10 18:08:07,577] [TfPoseEstimator] [INFO] loading graph from /content/drive/My Drive/clothing_seg/tf-openpose/models/graph/cmu/graph_opt.pb(default size=432x368)\n",
            "2018-10-10 18:08:08.545665: I tensorflow/core/common_runtime/gpu/gpu_device.cc:1490] Adding visible gpu devices: 0\n",
            "2018-10-10 18:08:08.545746: I tensorflow/core/common_runtime/gpu/gpu_device.cc:971] Device interconnect StreamExecutor with strength 1 edge matrix:\n",
            "2018-10-10 18:08:08.545773: I tensorflow/core/common_runtime/gpu/gpu_device.cc:977]      0 \n",
            "2018-10-10 18:08:08.545799: I tensorflow/core/common_runtime/gpu/gpu_device.cc:990] 0:   N \n",
            "2018-10-10 18:08:08.545990: I tensorflow/core/common_runtime/gpu/gpu_device.cc:1103] Created TensorFlow device (/job:localhost/replica:0/task:0/device:GPU:0 with 10759 MB memory) -> physical GPU (device: 0, name: Tesla K80, pci bus id: 0000:00:04.0, compute capability: 3.7)\n",
            "[2018-10-10 18:08:12,391] [TfPoseEstimator] [DEBUG] inference+ original shape=300x300\n",
            "[2018-10-10 18:08:12,391] [TfPoseEstimator] [DEBUG] inference+ original shape=300x300\n",
            "[2018-10-10 18:08:12,573] [TfPoseEstimator] [DEBUG] inference- heatMat=150x150 pafMat=150x150\n",
            "[2018-10-10 18:08:12,573] [TfPoseEstimator] [DEBUG] inference- heatMat=150x150 pafMat=150x150\n",
            "[2018-10-10 18:08:12,575] [TfPoseEstimator] [DEBUG] estimate time=0.00140\n",
            "[2018-10-10 18:08:12,575] [TfPoseEstimator] [DEBUG] estimate time=0.00140\n",
            "0 300\n",
            "300 300\n",
            "[2018-10-10 18:08:13,002] [TfPoseEstimator] [INFO] loading graph from /content/drive/My Drive/clothing_seg/tf-openpose/models/graph/cmu/graph_opt.pb(default size=432x368)\n",
            "[2018-10-10 18:08:13,002] [TfPoseEstimator] [INFO] loading graph from /content/drive/My Drive/clothing_seg/tf-openpose/models/graph/cmu/graph_opt.pb(default size=432x368)\n",
            "2018-10-10 18:08:13.974914: I tensorflow/core/common_runtime/gpu/gpu_device.cc:1490] Adding visible gpu devices: 0\n",
            "2018-10-10 18:08:13.975025: I tensorflow/core/common_runtime/gpu/gpu_device.cc:971] Device interconnect StreamExecutor with strength 1 edge matrix:\n",
            "2018-10-10 18:08:13.975054: I tensorflow/core/common_runtime/gpu/gpu_device.cc:977]      0 \n",
            "2018-10-10 18:08:13.975080: I tensorflow/core/common_runtime/gpu/gpu_device.cc:990] 0:   N \n",
            "2018-10-10 18:08:13.975287: I tensorflow/core/common_runtime/gpu/gpu_device.cc:1103] Created TensorFlow device (/job:localhost/replica:0/task:0/device:GPU:0 with 10759 MB memory) -> physical GPU (device: 0, name: Tesla K80, pci bus id: 0000:00:04.0, compute capability: 3.7)\n",
            "[2018-10-10 18:08:18,161] [TfPoseEstimator] [DEBUG] inference+ original shape=205x300\n",
            "[2018-10-10 18:08:18,161] [TfPoseEstimator] [DEBUG] inference+ original shape=205x300\n",
            "[2018-10-10 18:08:18,434] [TfPoseEstimator] [DEBUG] inference- heatMat=102x150 pafMat=102x150\n",
            "[2018-10-10 18:08:18,434] [TfPoseEstimator] [DEBUG] inference- heatMat=102x150 pafMat=102x150\n",
            "[2018-10-10 18:08:18,435] [TfPoseEstimator] [DEBUG] estimate time=0.00096\n",
            "[2018-10-10 18:08:18,435] [TfPoseEstimator] [DEBUG] estimate time=0.00096\n",
            "0 205\n",
            "205 300\n",
            "[2018-10-10 18:08:18,804] [TfPoseEstimator] [INFO] loading graph from /content/drive/My Drive/clothing_seg/tf-openpose/models/graph/cmu/graph_opt.pb(default size=432x368)\n",
            "[2018-10-10 18:08:18,804] [TfPoseEstimator] [INFO] loading graph from /content/drive/My Drive/clothing_seg/tf-openpose/models/graph/cmu/graph_opt.pb(default size=432x368)\n",
            "2018-10-10 18:08:19.774032: I tensorflow/core/common_runtime/gpu/gpu_device.cc:1490] Adding visible gpu devices: 0\n",
            "2018-10-10 18:08:19.774113: I tensorflow/core/common_runtime/gpu/gpu_device.cc:971] Device interconnect StreamExecutor with strength 1 edge matrix:\n",
            "2018-10-10 18:08:19.774141: I tensorflow/core/common_runtime/gpu/gpu_device.cc:977]      0 \n",
            "2018-10-10 18:08:19.774166: I tensorflow/core/common_runtime/gpu/gpu_device.cc:990] 0:   N \n",
            "2018-10-10 18:08:19.774394: I tensorflow/core/common_runtime/gpu/gpu_device.cc:1103] Created TensorFlow device (/job:localhost/replica:0/task:0/device:GPU:0 with 10759 MB memory) -> physical GPU (device: 0, name: Tesla K80, pci bus id: 0000:00:04.0, compute capability: 3.7)\n",
            "[2018-10-10 18:08:24,326] [TfPoseEstimator] [DEBUG] inference+ original shape=200x300\n",
            "[2018-10-10 18:08:24,326] [TfPoseEstimator] [DEBUG] inference+ original shape=200x300\n",
            "[2018-10-10 18:08:24,464] [TfPoseEstimator] [DEBUG] inference- heatMat=100x150 pafMat=100x150\n",
            "[2018-10-10 18:08:24,464] [TfPoseEstimator] [DEBUG] inference- heatMat=100x150 pafMat=100x150\n",
            "[2018-10-10 18:08:24,465] [TfPoseEstimator] [DEBUG] estimate time=0.00095\n",
            "[2018-10-10 18:08:24,465] [TfPoseEstimator] [DEBUG] estimate time=0.00095\n",
            "0 200\n",
            "200 300\n",
            "[2018-10-10 18:08:24,843] [TfPoseEstimator] [INFO] loading graph from /content/drive/My Drive/clothing_seg/tf-openpose/models/graph/cmu/graph_opt.pb(default size=432x368)\n",
            "[2018-10-10 18:08:24,843] [TfPoseEstimator] [INFO] loading graph from /content/drive/My Drive/clothing_seg/tf-openpose/models/graph/cmu/graph_opt.pb(default size=432x368)\n",
            "2018-10-10 18:08:25.888175: I tensorflow/core/common_runtime/gpu/gpu_device.cc:1490] Adding visible gpu devices: 0\n",
            "2018-10-10 18:08:25.888296: I tensorflow/core/common_runtime/gpu/gpu_device.cc:971] Device interconnect StreamExecutor with strength 1 edge matrix:\n",
            "2018-10-10 18:08:25.888338: I tensorflow/core/common_runtime/gpu/gpu_device.cc:977]      0 \n",
            "2018-10-10 18:08:25.888365: I tensorflow/core/common_runtime/gpu/gpu_device.cc:990] 0:   N \n",
            "2018-10-10 18:08:25.888676: I tensorflow/core/common_runtime/gpu/gpu_device.cc:1103] Created TensorFlow device (/job:localhost/replica:0/task:0/device:GPU:0 with 10759 MB memory) -> physical GPU (device: 0, name: Tesla K80, pci bus id: 0000:00:04.0, compute capability: 3.7)\n",
            "[2018-10-10 18:08:31,028] [TfPoseEstimator] [DEBUG] inference+ original shape=196x250\n",
            "[2018-10-10 18:08:31,028] [TfPoseEstimator] [DEBUG] inference+ original shape=196x250\n",
            "[2018-10-10 18:08:31,632] [TfPoseEstimator] [DEBUG] inference- heatMat=98x125 pafMat=98x125\n",
            "[2018-10-10 18:08:31,632] [TfPoseEstimator] [DEBUG] inference- heatMat=98x125 pafMat=98x125\n",
            "[2018-10-10 18:08:31,633] [TfPoseEstimator] [DEBUG] estimate time=0.00082\n",
            "[2018-10-10 18:08:31,633] [TfPoseEstimator] [DEBUG] estimate time=0.00082\n",
            "0 196\n",
            "196 250\n",
            "[2018-10-10 18:08:32,027] [TfPoseEstimator] [INFO] loading graph from /content/drive/My Drive/clothing_seg/tf-openpose/models/graph/cmu/graph_opt.pb(default size=432x368)\n",
            "[2018-10-10 18:08:32,027] [TfPoseEstimator] [INFO] loading graph from /content/drive/My Drive/clothing_seg/tf-openpose/models/graph/cmu/graph_opt.pb(default size=432x368)\n",
            "2018-10-10 18:08:32.993736: I tensorflow/core/common_runtime/gpu/gpu_device.cc:1490] Adding visible gpu devices: 0\n",
            "2018-10-10 18:08:32.993825: I tensorflow/core/common_runtime/gpu/gpu_device.cc:971] Device interconnect StreamExecutor with strength 1 edge matrix:\n",
            "2018-10-10 18:08:32.993855: I tensorflow/core/common_runtime/gpu/gpu_device.cc:977]      0 \n",
            "2018-10-10 18:08:32.993881: I tensorflow/core/common_runtime/gpu/gpu_device.cc:990] 0:   N \n",
            "2018-10-10 18:08:32.994102: I tensorflow/core/common_runtime/gpu/gpu_device.cc:1103] Created TensorFlow device (/job:localhost/replica:0/task:0/device:GPU:0 with 10759 MB memory) -> physical GPU (device: 0, name: Tesla K80, pci bus id: 0000:00:04.0, compute capability: 3.7)\n",
            "[2018-10-10 18:08:38,452] [TfPoseEstimator] [DEBUG] inference+ original shape=162x300\n",
            "[2018-10-10 18:08:38,452] [TfPoseEstimator] [DEBUG] inference+ original shape=162x300\n",
            "[2018-10-10 18:08:38,874] [TfPoseEstimator] [DEBUG] inference- heatMat=81x150 pafMat=81x150\n",
            "[2018-10-10 18:08:38,874] [TfPoseEstimator] [DEBUG] inference- heatMat=81x150 pafMat=81x150\n",
            "[2018-10-10 18:08:38,875] [TfPoseEstimator] [DEBUG] estimate time=0.00074\n",
            "[2018-10-10 18:08:38,875] [TfPoseEstimator] [DEBUG] estimate time=0.00074\n",
            "0 162\n",
            "162 300\n",
            "[2018-10-10 18:08:39,313] [TfPoseEstimator] [INFO] loading graph from /content/drive/My Drive/clothing_seg/tf-openpose/models/graph/cmu/graph_opt.pb(default size=432x368)\n",
            "[2018-10-10 18:08:39,313] [TfPoseEstimator] [INFO] loading graph from /content/drive/My Drive/clothing_seg/tf-openpose/models/graph/cmu/graph_opt.pb(default size=432x368)\n",
            "2018-10-10 18:08:40.306765: I tensorflow/core/common_runtime/gpu/gpu_device.cc:1490] Adding visible gpu devices: 0\n",
            "2018-10-10 18:08:40.306851: I tensorflow/core/common_runtime/gpu/gpu_device.cc:971] Device interconnect StreamExecutor with strength 1 edge matrix:\n",
            "2018-10-10 18:08:40.306882: I tensorflow/core/common_runtime/gpu/gpu_device.cc:977]      0 \n",
            "2018-10-10 18:08:40.306908: I tensorflow/core/common_runtime/gpu/gpu_device.cc:990] 0:   N \n",
            "2018-10-10 18:08:40.307127: I tensorflow/core/common_runtime/gpu/gpu_device.cc:1103] Created TensorFlow device (/job:localhost/replica:0/task:0/device:GPU:0 with 10759 MB memory) -> physical GPU (device: 0, name: Tesla K80, pci bus id: 0000:00:04.0, compute capability: 3.7)\n",
            "[2018-10-10 18:08:46,382] [TfPoseEstimator] [DEBUG] inference+ original shape=201x300\n",
            "[2018-10-10 18:08:46,382] [TfPoseEstimator] [DEBUG] inference+ original shape=201x300\n",
            "[2018-10-10 18:08:46,573] [TfPoseEstimator] [DEBUG] inference- heatMat=100x150 pafMat=100x150\n",
            "[2018-10-10 18:08:46,573] [TfPoseEstimator] [DEBUG] inference- heatMat=100x150 pafMat=100x150\n",
            "[2018-10-10 18:08:46,574] [TfPoseEstimator] [DEBUG] estimate time=0.00094\n",
            "[2018-10-10 18:08:46,574] [TfPoseEstimator] [DEBUG] estimate time=0.00094\n",
            "0 201\n",
            "201 300\n",
            "[2018-10-10 18:08:46,886] [TfPoseEstimator] [INFO] loading graph from /content/drive/My Drive/clothing_seg/tf-openpose/models/graph/cmu/graph_opt.pb(default size=432x368)\n",
            "[2018-10-10 18:08:46,886] [TfPoseEstimator] [INFO] loading graph from /content/drive/My Drive/clothing_seg/tf-openpose/models/graph/cmu/graph_opt.pb(default size=432x368)\n",
            "2018-10-10 18:08:47.876849: I tensorflow/core/common_runtime/gpu/gpu_device.cc:1490] Adding visible gpu devices: 0\n",
            "2018-10-10 18:08:47.876935: I tensorflow/core/common_runtime/gpu/gpu_device.cc:971] Device interconnect StreamExecutor with strength 1 edge matrix:\n",
            "2018-10-10 18:08:47.876980: I tensorflow/core/common_runtime/gpu/gpu_device.cc:977]      0 \n",
            "2018-10-10 18:08:47.877005: I tensorflow/core/common_runtime/gpu/gpu_device.cc:990] 0:   N \n",
            "2018-10-10 18:08:47.877252: I tensorflow/core/common_runtime/gpu/gpu_device.cc:1103] Created TensorFlow device (/job:localhost/replica:0/task:0/device:GPU:0 with 10759 MB memory) -> physical GPU (device: 0, name: Tesla K80, pci bus id: 0000:00:04.0, compute capability: 3.7)\n",
            "[2018-10-10 18:08:54,789] [TfPoseEstimator] [DEBUG] inference+ original shape=205x300\n",
            "[2018-10-10 18:08:54,789] [TfPoseEstimator] [DEBUG] inference+ original shape=205x300\n",
            "[2018-10-10 18:08:54,932] [TfPoseEstimator] [DEBUG] inference- heatMat=102x150 pafMat=102x150\n",
            "[2018-10-10 18:08:54,932] [TfPoseEstimator] [DEBUG] inference- heatMat=102x150 pafMat=102x150\n",
            "[2018-10-10 18:08:54,933] [TfPoseEstimator] [DEBUG] estimate time=0.00092\n",
            "[2018-10-10 18:08:54,933] [TfPoseEstimator] [DEBUG] estimate time=0.00092\n",
            "0 205\n",
            "205 300\n",
            "[2018-10-10 18:08:55,317] [TfPoseEstimator] [INFO] loading graph from /content/drive/My Drive/clothing_seg/tf-openpose/models/graph/cmu/graph_opt.pb(default size=432x368)\n",
            "[2018-10-10 18:08:55,317] [TfPoseEstimator] [INFO] loading graph from /content/drive/My Drive/clothing_seg/tf-openpose/models/graph/cmu/graph_opt.pb(default size=432x368)\n",
            "2018-10-10 18:08:56.302536: I tensorflow/core/common_runtime/gpu/gpu_device.cc:1490] Adding visible gpu devices: 0\n",
            "2018-10-10 18:08:56.302622: I tensorflow/core/common_runtime/gpu/gpu_device.cc:971] Device interconnect StreamExecutor with strength 1 edge matrix:\n",
            "2018-10-10 18:08:56.302650: I tensorflow/core/common_runtime/gpu/gpu_device.cc:977]      0 \n",
            "2018-10-10 18:08:56.302675: I tensorflow/core/common_runtime/gpu/gpu_device.cc:990] 0:   N \n",
            "2018-10-10 18:08:56.302888: I tensorflow/core/common_runtime/gpu/gpu_device.cc:1103] Created TensorFlow device (/job:localhost/replica:0/task:0/device:GPU:0 with 10759 MB memory) -> physical GPU (device: 0, name: Tesla K80, pci bus id: 0000:00:04.0, compute capability: 3.7)\n",
            "[2018-10-10 18:09:03,885] [TfPoseEstimator] [DEBUG] inference+ original shape=200x250\n",
            "[2018-10-10 18:09:03,885] [TfPoseEstimator] [DEBUG] inference+ original shape=200x250\n",
            "[2018-10-10 18:09:03,998] [TfPoseEstimator] [DEBUG] inference- heatMat=100x125 pafMat=100x125\n",
            "[2018-10-10 18:09:03,998] [TfPoseEstimator] [DEBUG] inference- heatMat=100x125 pafMat=100x125\n",
            "[2018-10-10 18:09:03,999] [TfPoseEstimator] [DEBUG] estimate time=0.00080\n",
            "[2018-10-10 18:09:03,999] [TfPoseEstimator] [DEBUG] estimate time=0.00080\n",
            "0 200\n",
            "200 250\n",
            "[2018-10-10 18:09:04,460] [TfPoseEstimator] [INFO] loading graph from /content/drive/My Drive/clothing_seg/tf-openpose/models/graph/cmu/graph_opt.pb(default size=432x368)\n",
            "[2018-10-10 18:09:04,460] [TfPoseEstimator] [INFO] loading graph from /content/drive/My Drive/clothing_seg/tf-openpose/models/graph/cmu/graph_opt.pb(default size=432x368)\n",
            "2018-10-10 18:09:05.461799: I tensorflow/core/common_runtime/gpu/gpu_device.cc:1490] Adding visible gpu devices: 0\n",
            "2018-10-10 18:09:05.461923: I tensorflow/core/common_runtime/gpu/gpu_device.cc:971] Device interconnect StreamExecutor with strength 1 edge matrix:\n",
            "2018-10-10 18:09:05.461952: I tensorflow/core/common_runtime/gpu/gpu_device.cc:977]      0 \n",
            "2018-10-10 18:09:05.461977: I tensorflow/core/common_runtime/gpu/gpu_device.cc:990] 0:   N \n",
            "2018-10-10 18:09:05.462257: I tensorflow/core/common_runtime/gpu/gpu_device.cc:1103] Created TensorFlow device (/job:localhost/replica:0/task:0/device:GPU:0 with 10759 MB memory) -> physical GPU (device: 0, name: Tesla K80, pci bus id: 0000:00:04.0, compute capability: 3.7)\n",
            "[2018-10-10 18:09:14,119] [TfPoseEstimator] [DEBUG] inference+ original shape=205x301\n",
            "[2018-10-10 18:09:14,119] [TfPoseEstimator] [DEBUG] inference+ original shape=205x301\n",
            "[2018-10-10 18:09:14,313] [TfPoseEstimator] [DEBUG] inference- heatMat=102x150 pafMat=102x150\n",
            "[2018-10-10 18:09:14,313] [TfPoseEstimator] [DEBUG] inference- heatMat=102x150 pafMat=102x150\n",
            "[2018-10-10 18:09:14,315] [TfPoseEstimator] [DEBUG] estimate time=0.00098\n",
            "[2018-10-10 18:09:14,315] [TfPoseEstimator] [DEBUG] estimate time=0.00098\n",
            "0 205\n",
            "205 301\n",
            "[2018-10-10 18:09:14,727] [TfPoseEstimator] [INFO] loading graph from /content/drive/My Drive/clothing_seg/tf-openpose/models/graph/cmu/graph_opt.pb(default size=432x368)\n",
            "[2018-10-10 18:09:14,727] [TfPoseEstimator] [INFO] loading graph from /content/drive/My Drive/clothing_seg/tf-openpose/models/graph/cmu/graph_opt.pb(default size=432x368)\n",
            "2018-10-10 18:09:15.723156: I tensorflow/core/common_runtime/gpu/gpu_device.cc:1490] Adding visible gpu devices: 0\n",
            "2018-10-10 18:09:15.723247: I tensorflow/core/common_runtime/gpu/gpu_device.cc:971] Device interconnect StreamExecutor with strength 1 edge matrix:\n",
            "2018-10-10 18:09:15.723277: I tensorflow/core/common_runtime/gpu/gpu_device.cc:977]      0 \n",
            "2018-10-10 18:09:15.723303: I tensorflow/core/common_runtime/gpu/gpu_device.cc:990] 0:   N \n",
            "2018-10-10 18:09:15.723533: I tensorflow/core/common_runtime/gpu/gpu_device.cc:1103] Created TensorFlow device (/job:localhost/replica:0/task:0/device:GPU:0 with 10759 MB memory) -> physical GPU (device: 0, name: Tesla K80, pci bus id: 0000:00:04.0, compute capability: 3.7)\n",
            "[2018-10-10 18:09:25,248] [TfPoseEstimator] [DEBUG] inference+ original shape=200x250\n",
            "[2018-10-10 18:09:25,248] [TfPoseEstimator] [DEBUG] inference+ original shape=200x250\n",
            "[2018-10-10 18:09:25,364] [TfPoseEstimator] [DEBUG] inference- heatMat=100x125 pafMat=100x125\n",
            "[2018-10-10 18:09:25,364] [TfPoseEstimator] [DEBUG] inference- heatMat=100x125 pafMat=100x125\n",
            "[2018-10-10 18:09:25,365] [TfPoseEstimator] [DEBUG] estimate time=0.00070\n",
            "[2018-10-10 18:09:25,365] [TfPoseEstimator] [DEBUG] estimate time=0.00070\n",
            "0 200\n",
            "200 250\n",
            "[2018-10-10 18:09:25,702] [TfPoseEstimator] [INFO] loading graph from /content/drive/My Drive/clothing_seg/tf-openpose/models/graph/cmu/graph_opt.pb(default size=432x368)\n",
            "[2018-10-10 18:09:25,702] [TfPoseEstimator] [INFO] loading graph from /content/drive/My Drive/clothing_seg/tf-openpose/models/graph/cmu/graph_opt.pb(default size=432x368)\n",
            "2018-10-10 18:09:26.720025: I tensorflow/core/common_runtime/gpu/gpu_device.cc:1490] Adding visible gpu devices: 0\n",
            "2018-10-10 18:09:26.720114: I tensorflow/core/common_runtime/gpu/gpu_device.cc:971] Device interconnect StreamExecutor with strength 1 edge matrix:\n",
            "2018-10-10 18:09:26.720161: I tensorflow/core/common_runtime/gpu/gpu_device.cc:977]      0 \n",
            "2018-10-10 18:09:26.720188: I tensorflow/core/common_runtime/gpu/gpu_device.cc:990] 0:   N \n",
            "2018-10-10 18:09:26.720408: I tensorflow/core/common_runtime/gpu/gpu_device.cc:1103] Created TensorFlow device (/job:localhost/replica:0/task:0/device:GPU:0 with 10759 MB memory) -> physical GPU (device: 0, name: Tesla K80, pci bus id: 0000:00:04.0, compute capability: 3.7)\n",
            "[2018-10-10 18:09:37,671] [TfPoseEstimator] [DEBUG] inference+ original shape=205x300\n",
            "[2018-10-10 18:09:37,671] [TfPoseEstimator] [DEBUG] inference+ original shape=205x300\n",
            "[2018-10-10 18:09:37,817] [TfPoseEstimator] [DEBUG] inference- heatMat=102x150 pafMat=102x150\n",
            "[2018-10-10 18:09:37,817] [TfPoseEstimator] [DEBUG] inference- heatMat=102x150 pafMat=102x150\n",
            "[2018-10-10 18:09:37,818] [TfPoseEstimator] [DEBUG] estimate time=0.00090\n",
            "[2018-10-10 18:09:37,818] [TfPoseEstimator] [DEBUG] estimate time=0.00090\n",
            "0 205\n",
            "205 300\n",
            "[2018-10-10 18:09:38,193] [TfPoseEstimator] [INFO] loading graph from /content/drive/My Drive/clothing_seg/tf-openpose/models/graph/cmu/graph_opt.pb(default size=432x368)\n",
            "[2018-10-10 18:09:38,193] [TfPoseEstimator] [INFO] loading graph from /content/drive/My Drive/clothing_seg/tf-openpose/models/graph/cmu/graph_opt.pb(default size=432x368)\n",
            "2018-10-10 18:09:39.200504: I tensorflow/core/common_runtime/gpu/gpu_device.cc:1490] Adding visible gpu devices: 0\n",
            "2018-10-10 18:09:39.200593: I tensorflow/core/common_runtime/gpu/gpu_device.cc:971] Device interconnect StreamExecutor with strength 1 edge matrix:\n",
            "2018-10-10 18:09:39.200623: I tensorflow/core/common_runtime/gpu/gpu_device.cc:977]      0 \n",
            "2018-10-10 18:09:39.200650: I tensorflow/core/common_runtime/gpu/gpu_device.cc:990] 0:   N \n",
            "2018-10-10 18:09:39.200863: I tensorflow/core/common_runtime/gpu/gpu_device.cc:1103] Created TensorFlow device (/job:localhost/replica:0/task:0/device:GPU:0 with 10759 MB memory) -> physical GPU (device: 0, name: Tesla K80, pci bus id: 0000:00:04.0, compute capability: 3.7)\n",
            "[2018-10-10 18:09:51,239] [TfPoseEstimator] [DEBUG] inference+ original shape=205x300\n",
            "[2018-10-10 18:09:51,239] [TfPoseEstimator] [DEBUG] inference+ original shape=205x300\n",
            "[2018-10-10 18:09:51,382] [TfPoseEstimator] [DEBUG] inference- heatMat=102x150 pafMat=102x150\n",
            "[2018-10-10 18:09:51,382] [TfPoseEstimator] [DEBUG] inference- heatMat=102x150 pafMat=102x150\n",
            "[2018-10-10 18:09:51,383] [TfPoseEstimator] [DEBUG] estimate time=0.00088\n",
            "[2018-10-10 18:09:51,383] [TfPoseEstimator] [DEBUG] estimate time=0.00088\n",
            "0 205\n",
            "205 300\n",
            "[2018-10-10 18:09:52,071] [TfPoseEstimator] [INFO] loading graph from /content/drive/My Drive/clothing_seg/tf-openpose/models/graph/cmu/graph_opt.pb(default size=432x368)\n",
            "[2018-10-10 18:09:52,071] [TfPoseEstimator] [INFO] loading graph from /content/drive/My Drive/clothing_seg/tf-openpose/models/graph/cmu/graph_opt.pb(default size=432x368)\n",
            "2018-10-10 18:09:53.101501: I tensorflow/core/common_runtime/gpu/gpu_device.cc:1490] Adding visible gpu devices: 0\n",
            "2018-10-10 18:09:53.101588: I tensorflow/core/common_runtime/gpu/gpu_device.cc:971] Device interconnect StreamExecutor with strength 1 edge matrix:\n",
            "2018-10-10 18:09:53.101624: I tensorflow/core/common_runtime/gpu/gpu_device.cc:977]      0 \n",
            "2018-10-10 18:09:53.101649: I tensorflow/core/common_runtime/gpu/gpu_device.cc:990] 0:   N \n",
            "2018-10-10 18:09:53.101862: I tensorflow/core/common_runtime/gpu/gpu_device.cc:1103] Created TensorFlow device (/job:localhost/replica:0/task:0/device:GPU:0 with 10759 MB memory) -> physical GPU (device: 0, name: Tesla K80, pci bus id: 0000:00:04.0, compute capability: 3.7)\n",
            "[2018-10-10 18:10:06,736] [TfPoseEstimator] [DEBUG] inference+ original shape=205x301\n",
            "[2018-10-10 18:10:06,736] [TfPoseEstimator] [DEBUG] inference+ original shape=205x301\n",
            "[2018-10-10 18:10:06,883] [TfPoseEstimator] [DEBUG] inference- heatMat=102x150 pafMat=102x150\n",
            "[2018-10-10 18:10:06,883] [TfPoseEstimator] [DEBUG] inference- heatMat=102x150 pafMat=102x150\n",
            "[2018-10-10 18:10:06,884] [TfPoseEstimator] [DEBUG] estimate time=0.00123\n",
            "[2018-10-10 18:10:06,884] [TfPoseEstimator] [DEBUG] estimate time=0.00123\n",
            "0 205\n",
            "205 301\n",
            "[2018-10-10 18:10:07,266] [TfPoseEstimator] [INFO] loading graph from /content/drive/My Drive/clothing_seg/tf-openpose/models/graph/cmu/graph_opt.pb(default size=432x368)\n",
            "[2018-10-10 18:10:07,266] [TfPoseEstimator] [INFO] loading graph from /content/drive/My Drive/clothing_seg/tf-openpose/models/graph/cmu/graph_opt.pb(default size=432x368)\n",
            "2018-10-10 18:10:08.281182: I tensorflow/core/common_runtime/gpu/gpu_device.cc:1490] Adding visible gpu devices: 0\n",
            "2018-10-10 18:10:08.281283: I tensorflow/core/common_runtime/gpu/gpu_device.cc:971] Device interconnect StreamExecutor with strength 1 edge matrix:\n",
            "2018-10-10 18:10:08.281337: I tensorflow/core/common_runtime/gpu/gpu_device.cc:977]      0 \n",
            "2018-10-10 18:10:08.281366: I tensorflow/core/common_runtime/gpu/gpu_device.cc:990] 0:   N \n",
            "2018-10-10 18:10:08.281616: I tensorflow/core/common_runtime/gpu/gpu_device.cc:1103] Created TensorFlow device (/job:localhost/replica:0/task:0/device:GPU:0 with 10759 MB memory) -> physical GPU (device: 0, name: Tesla K80, pci bus id: 0000:00:04.0, compute capability: 3.7)\n",
            "[2018-10-10 18:10:23,493] [TfPoseEstimator] [DEBUG] inference+ original shape=196x250\n",
            "[2018-10-10 18:10:23,493] [TfPoseEstimator] [DEBUG] inference+ original shape=196x250\n",
            "[2018-10-10 18:10:23,600] [TfPoseEstimator] [DEBUG] inference- heatMat=98x125 pafMat=98x125\n",
            "[2018-10-10 18:10:23,600] [TfPoseEstimator] [DEBUG] inference- heatMat=98x125 pafMat=98x125\n",
            "[2018-10-10 18:10:23,601] [TfPoseEstimator] [DEBUG] estimate time=0.00081\n",
            "[2018-10-10 18:10:23,601] [TfPoseEstimator] [DEBUG] estimate time=0.00081\n",
            "0 196\n",
            "196 250\n",
            "Pleated_A-Line_Mini_Skirt\n",
            "[2018-10-10 18:10:24,136] [TfPoseEstimator] [INFO] loading graph from /content/drive/My Drive/clothing_seg/tf-openpose/models/graph/cmu/graph_opt.pb(default size=432x368)\n",
            "[2018-10-10 18:10:24,136] [TfPoseEstimator] [INFO] loading graph from /content/drive/My Drive/clothing_seg/tf-openpose/models/graph/cmu/graph_opt.pb(default size=432x368)\n",
            "2018-10-10 18:10:25.152949: I tensorflow/core/common_runtime/gpu/gpu_device.cc:1490] Adding visible gpu devices: 0\n",
            "2018-10-10 18:10:25.153045: I tensorflow/core/common_runtime/gpu/gpu_device.cc:971] Device interconnect StreamExecutor with strength 1 edge matrix:\n",
            "2018-10-10 18:10:25.153077: I tensorflow/core/common_runtime/gpu/gpu_device.cc:977]      0 \n",
            "2018-10-10 18:10:25.153103: I tensorflow/core/common_runtime/gpu/gpu_device.cc:990] 0:   N \n",
            "2018-10-10 18:10:25.153308: I tensorflow/core/common_runtime/gpu/gpu_device.cc:1103] Created TensorFlow device (/job:localhost/replica:0/task:0/device:GPU:0 with 10759 MB memory) -> physical GPU (device: 0, name: Tesla K80, pci bus id: 0000:00:04.0, compute capability: 3.7)\n",
            "[2018-10-10 18:10:42,253] [TfPoseEstimator] [DEBUG] inference+ original shape=300x300\n",
            "[2018-10-10 18:10:42,253] [TfPoseEstimator] [DEBUG] inference+ original shape=300x300\n",
            "[2018-10-10 18:10:42,445] [TfPoseEstimator] [DEBUG] inference- heatMat=150x150 pafMat=150x150\n",
            "[2018-10-10 18:10:42,445] [TfPoseEstimator] [DEBUG] inference- heatMat=150x150 pafMat=150x150\n",
            "[2018-10-10 18:10:42,447] [TfPoseEstimator] [DEBUG] estimate time=0.00129\n",
            "[2018-10-10 18:10:42,447] [TfPoseEstimator] [DEBUG] estimate time=0.00129\n",
            "0 300\n",
            "300 300\n",
            "[2018-10-10 18:10:43,102] [TfPoseEstimator] [INFO] loading graph from /content/drive/My Drive/clothing_seg/tf-openpose/models/graph/cmu/graph_opt.pb(default size=432x368)\n",
            "[2018-10-10 18:10:43,102] [TfPoseEstimator] [INFO] loading graph from /content/drive/My Drive/clothing_seg/tf-openpose/models/graph/cmu/graph_opt.pb(default size=432x368)\n",
            "2018-10-10 18:10:44.126444: I tensorflow/core/common_runtime/gpu/gpu_device.cc:1490] Adding visible gpu devices: 0\n",
            "2018-10-10 18:10:44.126549: I tensorflow/core/common_runtime/gpu/gpu_device.cc:971] Device interconnect StreamExecutor with strength 1 edge matrix:\n",
            "2018-10-10 18:10:44.126579: I tensorflow/core/common_runtime/gpu/gpu_device.cc:977]      0 \n",
            "2018-10-10 18:10:44.126606: I tensorflow/core/common_runtime/gpu/gpu_device.cc:990] 0:   N \n",
            "2018-10-10 18:10:44.126819: I tensorflow/core/common_runtime/gpu/gpu_device.cc:1103] Created TensorFlow device (/job:localhost/replica:0/task:0/device:GPU:0 with 10759 MB memory) -> physical GPU (device: 0, name: Tesla K80, pci bus id: 0000:00:04.0, compute capability: 3.7)\n",
            "[2018-10-10 18:11:02,982] [TfPoseEstimator] [DEBUG] inference+ original shape=104x300\n",
            "[2018-10-10 18:11:02,982] [TfPoseEstimator] [DEBUG] inference+ original shape=104x300\n",
            "[2018-10-10 18:11:03,348] [TfPoseEstimator] [DEBUG] inference- heatMat=52x150 pafMat=52x150\n",
            "[2018-10-10 18:11:03,348] [TfPoseEstimator] [DEBUG] inference- heatMat=52x150 pafMat=52x150\n",
            "[2018-10-10 18:11:03,349] [TfPoseEstimator] [DEBUG] estimate time=0.00053\n",
            "[2018-10-10 18:11:03,349] [TfPoseEstimator] [DEBUG] estimate time=0.00053\n",
            "0 104\n",
            "104 300\n",
            "[2018-10-10 18:11:03,730] [TfPoseEstimator] [INFO] loading graph from /content/drive/My Drive/clothing_seg/tf-openpose/models/graph/cmu/graph_opt.pb(default size=432x368)\n",
            "[2018-10-10 18:11:03,730] [TfPoseEstimator] [INFO] loading graph from /content/drive/My Drive/clothing_seg/tf-openpose/models/graph/cmu/graph_opt.pb(default size=432x368)\n",
            "2018-10-10 18:11:04.763370: I tensorflow/core/common_runtime/gpu/gpu_device.cc:1490] Adding visible gpu devices: 0\n",
            "2018-10-10 18:11:04.763464: I tensorflow/core/common_runtime/gpu/gpu_device.cc:971] Device interconnect StreamExecutor with strength 1 edge matrix:\n",
            "2018-10-10 18:11:04.763523: I tensorflow/core/common_runtime/gpu/gpu_device.cc:977]      0 \n",
            "2018-10-10 18:11:04.763554: I tensorflow/core/common_runtime/gpu/gpu_device.cc:990] 0:   N \n",
            "2018-10-10 18:11:04.763780: I tensorflow/core/common_runtime/gpu/gpu_device.cc:1103] Created TensorFlow device (/job:localhost/replica:0/task:0/device:GPU:0 with 10759 MB memory) -> physical GPU (device: 0, name: Tesla K80, pci bus id: 0000:00:04.0, compute capability: 3.7)\n",
            "[2018-10-10 18:11:25,527] [TfPoseEstimator] [DEBUG] inference+ original shape=300x300\n",
            "[2018-10-10 18:11:25,527] [TfPoseEstimator] [DEBUG] inference+ original shape=300x300\n",
            "[2018-10-10 18:11:25,715] [TfPoseEstimator] [DEBUG] inference- heatMat=150x150 pafMat=150x150\n",
            "[2018-10-10 18:11:25,715] [TfPoseEstimator] [DEBUG] inference- heatMat=150x150 pafMat=150x150\n",
            "[2018-10-10 18:11:25,717] [TfPoseEstimator] [DEBUG] estimate time=0.00167\n",
            "[2018-10-10 18:11:25,717] [TfPoseEstimator] [DEBUG] estimate time=0.00167\n",
            "0 300\n",
            "300 300\n",
            "[2018-10-10 18:11:26,234] [TfPoseEstimator] [INFO] loading graph from /content/drive/My Drive/clothing_seg/tf-openpose/models/graph/cmu/graph_opt.pb(default size=432x368)\n",
            "[2018-10-10 18:11:26,234] [TfPoseEstimator] [INFO] loading graph from /content/drive/My Drive/clothing_seg/tf-openpose/models/graph/cmu/graph_opt.pb(default size=432x368)\n",
            "2018-10-10 18:11:27.294723: I tensorflow/core/common_runtime/gpu/gpu_device.cc:1490] Adding visible gpu devices: 0\n",
            "2018-10-10 18:11:27.294805: I tensorflow/core/common_runtime/gpu/gpu_device.cc:971] Device interconnect StreamExecutor with strength 1 edge matrix:\n",
            "2018-10-10 18:11:27.294833: I tensorflow/core/common_runtime/gpu/gpu_device.cc:977]      0 \n",
            "2018-10-10 18:11:27.294859: I tensorflow/core/common_runtime/gpu/gpu_device.cc:990] 0:   N \n",
            "2018-10-10 18:11:27.295065: I tensorflow/core/common_runtime/gpu/gpu_device.cc:1103] Created TensorFlow device (/job:localhost/replica:0/task:0/device:GPU:0 with 10759 MB memory) -> physical GPU (device: 0, name: Tesla K80, pci bus id: 0000:00:04.0, compute capability: 3.7)\n",
            "Traceback (most recent call last):\n",
            "  File \"google_d_u_t.py\", line 62, in <module>\n",
            "    e = TfPoseEstimator(get_graph_path(args.model), target_size=(432, 368))\n",
            "  File \"/content/drive/My Drive/clothing_seg/tf-openpose/tf_pose/estimator.py\", line 344, in __init__\n",
            "    [v for v in tf.global_variables() if\n",
            "  File \"/content/drive/My Drive/clothing_seg/tf-openpose/tf_pose/estimator.py\", line 346, in <listcomp>\n",
            "    self.persistent_sess.run(tf.report_uninitialized_variables())]\n",
            "  File \"/usr/local/lib/python3.6/dist-packages/tensorflow/python/client/session.py\", line 887, in run\n",
            "    run_metadata_ptr)\n",
            "  File \"/usr/local/lib/python3.6/dist-packages/tensorflow/python/client/session.py\", line 1110, in _run\n",
            "    feed_dict_tensor, options, run_metadata)\n",
            "  File \"/usr/local/lib/python3.6/dist-packages/tensorflow/python/client/session.py\", line 1286, in _do_run\n",
            "    run_metadata)\n",
            "  File \"/usr/local/lib/python3.6/dist-packages/tensorflow/python/client/session.py\", line 1292, in _do_call\n",
            "    return fn(*args)\n",
            "  File \"/usr/local/lib/python3.6/dist-packages/tensorflow/python/client/session.py\", line 1277, in _run_fn\n",
            "    options, feed_dict, fetch_list, target_list, run_metadata)\n",
            "  File \"/usr/local/lib/python3.6/dist-packages/tensorflow/python/client/session.py\", line 1367, in _call_tf_sessionrun\n",
            "    run_metadata)\n",
            "KeyboardInterrupt\n"
          ],
          "name": "stdout"
        }
      ]
    },
    {
      "metadata": {
        "id": "fKDRL2ra6dpP",
        "colab_type": "code",
        "colab": {}
      },
      "cell_type": "code",
      "source": [
        "!apt-get install swig"
      ],
      "execution_count": 0,
      "outputs": []
    },
    {
      "metadata": {
        "id": "CgXRdwFM7eat",
        "colab_type": "code",
        "colab": {}
      },
      "cell_type": "code",
      "source": [
        "!swig -python -c++ pafprocess.i && python3 setup.py build_ext --inplace"
      ],
      "execution_count": 0,
      "outputs": []
    },
    {
      "metadata": {
        "id": "465huN4D906l",
        "colab_type": "code",
        "colab": {}
      },
      "cell_type": "code",
      "source": [
        "!ls"
      ],
      "execution_count": 0,
      "outputs": []
    },
    {
      "metadata": {
        "id": "4t2cwyNr_rq1",
        "colab_type": "code",
        "colab": {}
      },
      "cell_type": "code",
      "source": [
        "!swig -python -c++ pafprocess.i && python3 setup.py build_ext --inplace"
      ],
      "execution_count": 0,
      "outputs": []
    },
    {
      "metadata": {
        "id": "lp9PQJ79_xJh",
        "colab_type": "code",
        "colab": {}
      },
      "cell_type": "code",
      "source": [
        "os.chdir(\"/content/drive/My Drive/clothing_seg/tf-openpose/tf_pose/pafprocess\")"
      ],
      "execution_count": 0,
      "outputs": []
    },
    {
      "metadata": {
        "id": "RuFWxtTT_7lU",
        "colab_type": "code",
        "colab": {}
      },
      "cell_type": "code",
      "source": [
        ""
      ],
      "execution_count": 0,
      "outputs": []
    }
  ]
}